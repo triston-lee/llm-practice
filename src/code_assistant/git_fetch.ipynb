{
 "cells": [
  {
   "cell_type": "code",
   "execution_count": 1,
   "id": "initial_id",
   "metadata": {
    "collapsed": true,
    "ExecuteTime": {
     "end_time": "2024-02-20T02:43:22.438510Z",
     "start_time": "2024-02-20T02:43:22.436080Z"
    }
   },
   "outputs": [],
   "source": [
    "code_base = \"mobile\""
   ]
  },
  {
   "cell_type": "code",
   "outputs": [
    {
     "name": "stdout",
     "output_type": "stream",
     "text": [
      "Collecting gitpython\r\n",
      "  Downloading GitPython-3.1.42-py3-none-any.whl.metadata (12 kB)\r\n",
      "Collecting gitdb<5,>=4.0.1 (from gitpython)\r\n",
      "  Downloading gitdb-4.0.11-py3-none-any.whl.metadata (1.2 kB)\r\n",
      "Collecting smmap<6,>=3.0.1 (from gitdb<5,>=4.0.1->gitpython)\r\n",
      "  Downloading smmap-5.0.1-py3-none-any.whl.metadata (4.3 kB)\r\n",
      "Downloading GitPython-3.1.42-py3-none-any.whl (195 kB)\r\n",
      "\u001B[2K   \u001B[90m━━━━━━━━━━━━━━━━━━━━━━━━━━━━━━━━━━━━━━━\u001B[0m \u001B[32m195.4/195.4 kB\u001B[0m \u001B[31m618.2 kB/s\u001B[0m eta \u001B[36m0:00:00\u001B[0m00:01\u001B[0m00:01\u001B[0m\r\n",
      "\u001B[?25hDownloading gitdb-4.0.11-py3-none-any.whl (62 kB)\r\n",
      "\u001B[2K   \u001B[90m━━━━━━━━━━━━━━━━━━━━━━━━━━━━━━━━━━━━━━━━\u001B[0m \u001B[32m62.7/62.7 kB\u001B[0m \u001B[31m986.5 kB/s\u001B[0m eta \u001B[36m0:00:00\u001B[0m\u001B[36m0:00:01\u001B[0m\r\n",
      "\u001B[?25hDownloading smmap-5.0.1-py3-none-any.whl (24 kB)\r\n",
      "Installing collected packages: smmap, gitdb, gitpython\r\n",
      "Successfully installed gitdb-4.0.11 gitpython-3.1.42 smmap-5.0.1\r\n"
     ]
    }
   ],
   "source": [
    "!pip install gitpython"
   ],
   "metadata": {
    "collapsed": false,
    "ExecuteTime": {
     "end_time": "2024-02-20T02:44:56.448455Z",
     "start_time": "2024-02-20T02:44:51.977688Z"
    }
   },
   "id": "ed47ed7b5db0fc7c",
   "execution_count": 3
  },
  {
   "cell_type": "code",
   "outputs": [],
   "source": [
    "import datetime\n",
    "from git import Git\n",
    "def git_fetch():\n",
    "\t# 根据仓库名称找到本地代码文件目录\n",
    "    if code_base == \"nky\":\n",
    "        code_path = \"E:\\\\nkyworkspace\\\\nky\\\\nky\"\n",
    "    elif code_base == \"webapp\":\n",
    "        code_path = \"E:\\\\nkyworkspace\\\\webapp\"\n",
    "    else:\n",
    "        code_path = \"E:\\\\nkyworkspace\\\\mobile\"\n",
    "    # 定位到本地代码目录\n",
    "    g = Git(code_path)\n",
    "    # 获取远程仓库最新的提交信息，包含所有分支\n",
    "    g.fetch()\n",
    "\n",
    "git_fetch()\n",
    "begin = datetime.date(2022, 10, 16)\n",
    "end = datetime.date(2022, 10, 17)\n",
    "# 循环begin和end期间的每一天\n",
    "for d in range((end - begin).days + 1):\n",
    "    day = begin + datetime.timedelta(d)\n",
    "    # print(day)\n",
    "    a = get_object(day)\n",
    "    write_data(a, day)"
   ],
   "metadata": {
    "collapsed": false,
    "ExecuteTime": {
     "end_time": "2024-02-20T02:45:03.395303Z",
     "start_time": "2024-02-20T02:45:02.141391Z"
    }
   },
   "id": "a64e73f9d523def0",
   "execution_count": 4
  },
  {
   "cell_type": "code",
   "outputs": [],
   "source": [],
   "metadata": {
    "collapsed": false
   },
   "id": "fcb718ed0be8f6ef"
  }
 ],
 "metadata": {
  "kernelspec": {
   "display_name": "Python 3",
   "language": "python",
   "name": "python3"
  },
  "language_info": {
   "codemirror_mode": {
    "name": "ipython",
    "version": 2
   },
   "file_extension": ".py",
   "mimetype": "text/x-python",
   "name": "python",
   "nbconvert_exporter": "python",
   "pygments_lexer": "ipython2",
   "version": "2.7.6"
  }
 },
 "nbformat": 4,
 "nbformat_minor": 5
}
